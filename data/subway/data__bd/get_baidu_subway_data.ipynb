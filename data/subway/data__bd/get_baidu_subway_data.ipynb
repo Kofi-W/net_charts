{
 "cells": [
  {
   "cell_type": "markdown",
   "id": "e79c6e23",
   "metadata": {},
   "source": [
    "# 采集百度地图的地铁数据\n",
    "1. 打开本目录下的baidu.html\n",
    "2. 将下载的CityList.json文件复制到本目录下\n",
    "3. 浏览器中baidu.html页面，检查-网络-双击以“?qt=subways&”开头的项目，复制url为query_url_raw，如下\n",
    "query_url_raw = \"https://api.map.baidu.com/?qt=subways&c=75&format=json&ak=131b9959f097765f0de45f6b1767e776&v=3.0&from=jsapi&type=subway&callback=BMapSub._rd._cbk28255\"c\n",
    "4. 遍历city_code_list，将query_url_raw中的c修改为城市代码，即可请求每个城市的数据"
   ]
  },
  {
   "cell_type": "code",
   "execution_count": 1,
   "id": "47884ce1",
   "metadata": {},
   "outputs": [],
   "source": [
    "import json\n",
    "import requests\n",
    "from collections import defaultdict\n",
    "import time, random\n",
    "\n",
    "import pandas as pd"
   ]
  },
  {
   "cell_type": "code",
   "execution_count": 2,
   "id": "4b9161cd",
   "metadata": {},
   "outputs": [],
   "source": [
    "import sys\n",
    "sys.path.append(\"../../..\")\n",
    "from secure.db_account import SubwayPrd\n",
    "from k_libs.db_query import DBOperate"
   ]
  },
  {
   "cell_type": "markdown",
   "id": "88353c45",
   "metadata": {},
   "source": [
    "## 配置项"
   ]
  },
  {
   "cell_type": "code",
   "execution_count": 3,
   "id": "9bb4e6a7",
   "metadata": {},
   "outputs": [],
   "source": [
    "# 采集百度地图的地铁数据\n",
    "query_url_raw = \"https://api.map.baidu.com/?qt=subways&c=75&format=json&ak=131b9959f097765f0de45f6b1767e776&v=3.0&from=jsapi&type=subway&callback=BMapSub._rd._cbk28255\"\n",
    "\n"
   ]
  },
  {
   "cell_type": "code",
   "execution_count": 4,
   "id": "0c6b4e01",
   "metadata": {},
   "outputs": [],
   "source": [
    "crawler_id = 251001"
   ]
  },
  {
   "cell_type": "markdown",
   "id": "370d5ec6",
   "metadata": {},
   "source": [
    "## 城市列表"
   ]
  },
  {
   "cell_type": "code",
   "execution_count": 5,
   "id": "cf042cc2",
   "metadata": {},
   "outputs": [],
   "source": [
    "# 获取cityList\n",
    "with open(\"cityList.json\", \"r\", encoding=\"utf-8\") as f:\n",
    "    city_list = json.load(f)\n",
    "city_code_list = [city[\"citycode\"] for city in city_list]\n",
    "city_name_list = [city[\"name\"] for city in city_list]\n",
    "city_name_e_list = [city[\"keyword\"] for city in city_list]"
   ]
  },
  {
   "cell_type": "code",
   "execution_count": 6,
   "id": "ef1de038",
   "metadata": {},
   "outputs": [
    {
     "data": {
      "text/plain": [
       "['北京',\n",
       " '上海',\n",
       " '广州',\n",
       " '深圳',\n",
       " '重庆',\n",
       " '天津',\n",
       " '石家庄',\n",
       " '南京',\n",
       " '成都',\n",
       " '沈阳',\n",
       " '杭州',\n",
       " '武汉',\n",
       " '长沙',\n",
       " '苏州',\n",
       " '大连',\n",
       " '长春',\n",
       " '西安',\n",
       " '昆明',\n",
       " '佛山',\n",
       " '哈尔滨',\n",
       " '郑州',\n",
       " '宁波',\n",
       " '无锡',\n",
       " '温州',\n",
       " '青岛',\n",
       " '南昌',\n",
       " '福州',\n",
       " '东莞',\n",
       " '南宁',\n",
       " '合肥',\n",
       " '厦门',\n",
       " '乌鲁木齐',\n",
       " '贵阳',\n",
       " '香港特别行政区',\n",
       " '台北',\n",
       " '高雄',\n",
       " '南通',\n",
       " '资阳',\n",
       " '鄂州',\n",
       " '湘潭',\n",
       " '咸阳',\n",
       " '许昌',\n",
       " '常州',\n",
       " '清远',\n",
       " '济南',\n",
       " '兰州',\n",
       " '徐州',\n",
       " '呼和浩特',\n",
       " '太原',\n",
       " '金华',\n",
       " '洛阳',\n",
       " '绍兴',\n",
       " '芜湖',\n",
       " '台州',\n",
       " '滁州',\n",
       " '湘西土家族苗族自治州',\n",
       " '澳门特别行政区',\n",
       " '新加坡',\n",
       " '曼谷',\n",
       " '名古屋',\n",
       " '横滨',\n",
       " '京都',\n",
       " '大阪',\n",
       " '东京',\n",
       " '釜山',\n",
       " '大邱',\n",
       " '大田',\n",
       " '光州',\n",
       " '首尔',\n",
       " '巴黎',\n",
       " '里约热内卢',\n",
       " '巴西利亚',\n",
       " '圣保罗',\n",
       " '纽约',\n",
       " '莫斯科',\n",
       " '鹿特丹',\n",
       " '伊斯坦布尔',\n",
       " '巴塞罗那',\n",
       " '马德里']"
      ]
     },
     "execution_count": 6,
     "metadata": {},
     "output_type": "execute_result"
    }
   ],
   "source": [
    "city_name_list"
   ]
  },
  {
   "cell_type": "code",
   "execution_count": 7,
   "id": "848eacc4",
   "metadata": {},
   "outputs": [
    {
     "data": {
      "text/plain": [
       "79"
      ]
     },
     "execution_count": 7,
     "metadata": {},
     "output_type": "execute_result"
    }
   ],
   "source": [
    "len(city_code_list)"
   ]
  },
  {
   "cell_type": "markdown",
   "id": "228b36c8",
   "metadata": {},
   "source": [
    "## 保存到本地json"
   ]
  },
  {
   "cell_type": "code",
   "execution_count": null,
   "id": "e9c19dae",
   "metadata": {},
   "outputs": [],
   "source": [
    "subway_data = []\n",
    "for city_code, city_name, city_name_e in zip(city_code_list, city_name_list, city_name_e_list):\n",
    "    print(f\"正在采集城市 {city_code}:{city_name} 的地铁数据\")\n",
    "    query_url = query_url_raw.replace(\"c=75\", f\"c={city_code}\")\n",
    "    res = requests.get(query_url)\n",
    "    # 提取res中的json部分\n",
    "    res_text = res.text\n",
    "    res_json_str = res_text[res_text.index(\"{\") : res_text.rindex(\"}\") + 1]\n",
    "    res_json = json.loads(res_json_str)\n",
    "    city_data = {\n",
    "        'city_code': city_code,\n",
    "        'city_name': city_name,\n",
    "        'city_name_e': city_name_e,\n",
    "        'city_data': res_json['subways'],\n",
    "        'crawler_id': crawler_id\n",
    "\n",
    "    }\n",
    "    subway_data.append(city_data)\n",
    "    time.sleep(random.uniform(1, 3))  # 避免请求过快"
   ]
  },
  {
   "cell_type": "code",
   "execution_count": null,
   "id": "03b7fee3",
   "metadata": {},
   "outputs": [],
   "source": [
    "# 将subway_data保存为json文件\n",
    "with open(f\"baidu_subway_data_{str(crawler_id)}.json\", \"w\", encoding=\"utf-8\") as f:\n",
    "    json.dump(subway_data, f, ensure_ascii=False, indent=2)"
   ]
  },
  {
   "cell_type": "markdown",
   "id": "5fc4690d",
   "metadata": {},
   "source": [
    "## 保存到数据库"
   ]
  },
  {
   "cell_type": "code",
   "execution_count": 8,
   "id": "f833bbe1",
   "metadata": {},
   "outputs": [],
   "source": [
    "line_fields = ['lid', 'lb', 'slb', 'n', 'loop', 'lbx', 'lby', 'lbr', 'lc', 'uid', 'uid2']\n",
    "station_fields = ['sid', 'lb', 'x', 'y', 'rx', 'ry', 'st', 'ex', 'iu', 'rc', 'slb', 'ln', 'int', 'uid', 'px', 'py']\n",
    "DBO = DBOperate(SubwayPrd)"
   ]
  },
  {
   "cell_type": "code",
   "execution_count": 9,
   "id": "155bef31",
   "metadata": {},
   "outputs": [
    {
     "name": "stdout",
     "output_type": "stream",
     "text": [
      "正在采集城市 131:北京 的地铁数据\n",
      "正在采集城市 289:上海 的地铁数据\n",
      "正在采集城市 257:广州 的地铁数据\n",
      "正在采集城市 340:深圳 的地铁数据\n",
      "正在采集城市 132:重庆 的地铁数据\n",
      "正在采集城市 332:天津 的地铁数据\n",
      "正在采集城市 150:石家庄 的地铁数据\n",
      "正在采集城市 315:南京 的地铁数据\n",
      "正在采集城市 75:成都 的地铁数据\n",
      "正在采集城市 58:沈阳 的地铁数据\n",
      "正在采集城市 179:杭州 的地铁数据\n",
      "正在采集城市 218:武汉 的地铁数据\n",
      "正在采集城市 158:长沙 的地铁数据\n",
      "正在采集城市 224:苏州 的地铁数据\n",
      "正在采集城市 167:大连 的地铁数据\n",
      "正在采集城市 53:长春 的地铁数据\n",
      "正在采集城市 233:西安 的地铁数据\n",
      "正在采集城市 104:昆明 的地铁数据\n",
      "正在采集城市 138:佛山 的地铁数据\n",
      "正在采集城市 48:哈尔滨 的地铁数据\n",
      "正在采集城市 268:郑州 的地铁数据\n",
      "正在采集城市 180:宁波 的地铁数据\n",
      "正在采集城市 317:无锡 的地铁数据\n",
      "正在采集城市 178:温州 的地铁数据\n",
      "正在采集城市 236:青岛 的地铁数据\n",
      "正在采集城市 163:南昌 的地铁数据\n",
      "正在采集城市 300:福州 的地铁数据\n",
      "正在采集城市 119:东莞 的地铁数据\n",
      "正在采集城市 261:南宁 的地铁数据\n",
      "正在采集城市 127:合肥 的地铁数据\n",
      "正在采集城市 194:厦门 的地铁数据\n",
      "正在采集城市 92:乌鲁木齐 的地铁数据\n",
      "正在采集城市 146:贵阳 的地铁数据\n",
      "正在采集城市 2912:香港特别行政区 的地铁数据\n",
      "正在采集城市 9002:台北 的地铁数据\n",
      "正在采集城市 9019:高雄 的地铁数据\n",
      "正在采集城市 161:南通 的地铁数据\n",
      "正在采集城市 242:资阳 的地铁数据\n",
      "正在采集城市 122:鄂州 的地铁数据\n",
      "正在采集城市 313:湘潭 的地铁数据\n",
      "正在采集城市 323:咸阳 的地铁数据\n",
      "正在采集城市 155:许昌 的地铁数据\n",
      "正在采集城市 348:常州 的地铁数据\n",
      "正在采集城市 197:清远 的地铁数据\n",
      "正在采集城市 288:济南 的地铁数据\n",
      "正在采集城市 36:兰州 的地铁数据\n",
      "正在采集城市 316:徐州 的地铁数据\n",
      "正在采集城市 321:呼和浩特 的地铁数据\n",
      "正在采集城市 176:太原 的地铁数据\n",
      "正在采集城市 333:金华 的地铁数据\n",
      "正在采集城市 153:洛阳 的地铁数据\n",
      "正在采集城市 293:绍兴 的地铁数据\n",
      "正在采集城市 129:芜湖 的地铁数据\n",
      "正在采集城市 244:台州 的地铁数据\n",
      "正在采集城市 189:滁州 的地铁数据\n",
      "正在采集城市 274:湘西土家族苗族自治州 的地铁数据\n",
      "正在采集城市 2911:澳门特别行政区 的地铁数据\n",
      "正在采集城市 20001:新加坡 的地铁数据\n",
      "正在采集城市 20508:曼谷 的地铁数据\n",
      "正在采集城市 26001:名古屋 的地铁数据\n",
      "正在采集城市 26019:横滨 的地铁数据\n",
      "正在采集城市 26022:京都 的地铁数据\n",
      "正在采集城市 26033:大阪 的地铁数据\n",
      "正在采集城市 26041:东京 的地铁数据\n",
      "正在采集城市 30001:釜山 的地铁数据\n",
      "正在采集城市 30004:大邱 的地铁数据\n",
      "正在采集城市 30005:大田 的地铁数据\n",
      "正在采集城市 30007:光州 的地铁数据\n",
      "正在采集城市 30016:首尔 的地铁数据\n",
      "正在采集城市 49872:巴黎 的地铁数据\n",
      "正在采集城市 39816:里约热内卢 的地铁数据\n",
      "正在采集城市 53009:巴西利亚 的地铁数据\n",
      "正在采集城市 39817:圣保罗 的地铁数据\n",
      "正在采集城市 60732:纽约 的地铁数据\n",
      "正在采集城市 65531:莫斯科 的地铁数据\n",
      "正在采集城市 52390:鹿特丹 的地铁数据\n",
      "正在采集城市 48552:伊斯坦布尔 的地铁数据\n",
      "正在采集城市 51271:巴塞罗那 的地铁数据\n",
      "正在采集城市 51314:马德里 的地铁数据\n"
     ]
    }
   ],
   "source": [
    "for city_code, city_name, city_name_e in zip(city_code_list, city_name_list, city_name_e_list):\n",
    "    print(f\"正在采集城市 {city_code}:{city_name} 的地铁数据\")\n",
    "    query_url = query_url_raw.replace(\"c=75\", f\"c={city_code}\")\n",
    "    res = requests.get(query_url)\n",
    "    # 提取res中的json部分\n",
    "    res_text = res.text\n",
    "    res_json_str = res_text[res_text.index(\"{\") : res_text.rindex(\"}\") + 1]\n",
    "    res_json = json.loads(res_json_str)\n",
    "    city_data = res_json['subways']\n",
    "    city_dict = defaultdict(list)\n",
    "    for line in city_data['l']:\n",
    "        line_info = line['l_xmlattr']\n",
    "        for st in line['p']:\n",
    "            st_info = st['p_xmlattr']\n",
    "            # 线路数据\n",
    "            for i in line_fields:\n",
    "                line_i = f'line_{i}'\n",
    "                city_dict[line_i].append(str(line_info.get(i, None)))\n",
    "            # 站点数据\n",
    "            for j in station_fields:\n",
    "                station_j = f'st_{j}'\n",
    "                city_dict[station_j].append(str(st_info.get(j, None)))\n",
    "    city_df = pd.DataFrame.from_dict(city_dict)\n",
    "    city_df['city_id'] = city_code\n",
    "    city_df['city_name'] = city_name\n",
    "    city_df['city_name_e'] = city_name_e\n",
    "    city_df['crawler_id'] = crawler_id\n",
    "    city_df['crawler_date'] = time.strftime(\"%Y-%m-%d\", time.localtime())\n",
    "    city_df['uid'] = city_df['city_id'] + city_df['crawler_id'].astype(str) + city_df.index.astype(str)\n",
    "    DBO.df_to_sql(city_df, \"ods_subway_baidu\", if_exists=\"append\")\n",
    "    time.sleep(random.uniform(1, 5))  # 避免请求过快"
   ]
  },
  {
   "cell_type": "code",
   "execution_count": null,
   "id": "96dc1305",
   "metadata": {},
   "outputs": [],
   "source": [
    "city_df"
   ]
  },
  {
   "cell_type": "code",
   "execution_count": null,
   "id": "d19cee5e",
   "metadata": {},
   "outputs": [],
   "source": []
  }
 ],
 "metadata": {
  "kernelspec": {
   "display_name": "rapids25.08_python3.12",
   "language": "python",
   "name": "python3"
  },
  "language_info": {
   "codemirror_mode": {
    "name": "ipython",
    "version": 3
   },
   "file_extension": ".py",
   "mimetype": "text/x-python",
   "name": "python",
   "nbconvert_exporter": "python",
   "pygments_lexer": "ipython3",
   "version": "3.12.3"
  }
 },
 "nbformat": 4,
 "nbformat_minor": 5
}
