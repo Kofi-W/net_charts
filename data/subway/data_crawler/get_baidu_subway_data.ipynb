{
 "cells": [
  {
   "cell_type": "markdown",
   "id": "e79c6e23",
   "metadata": {},
   "source": [
    "# 采集百度地图的地铁数据\n",
    "1. 打开本目录下的baidu.html\n",
    "2. 将下载的CityList.json文件复制到本目录下\n",
    "3. 浏览器中baidu.html页面，检查-网络-双击以“?qt=subways&”开头的项目，复制url为query_url_raw，如下\n",
    "query_url_raw = \"https://api.map.baidu.com/?qt=subways&c=75&format=json&ak=131b9959f097765f0de45f6b1767e776&v=3.0&from=jsapi&type=subway&callback=BMapSub._rd._cbk28255\"c\n",
    "4. 遍历city_code_list，将query_url_raw中的c修改为城市代码，即可请求每个城市的数据"
   ]
  },
  {
   "cell_type": "code",
   "execution_count": 24,
   "id": "47884ce1",
   "metadata": {},
   "outputs": [],
   "source": [
    "import json\n",
    "import requests\n",
    "from collections import defaultdict\n",
    "import time, random"
   ]
  },
  {
   "cell_type": "code",
   "execution_count": 8,
   "id": "9bb4e6a7",
   "metadata": {},
   "outputs": [],
   "source": [
    "# 采集百度地图的地铁数据\n",
    "query_url_raw = \"https://api.map.baidu.com/?qt=subways&c=75&format=json&ak=131b9959f097765f0de45f6b1767e776&v=3.0&from=jsapi&type=subway&callback=BMapSub._rd._cbk28255\"\n",
    "\n"
   ]
  },
  {
   "cell_type": "code",
   "execution_count": 20,
   "id": "0c6b4e01",
   "metadata": {},
   "outputs": [],
   "source": [
    "crawler_id = 250925"
   ]
  },
  {
   "cell_type": "code",
   "execution_count": 22,
   "id": "cf042cc2",
   "metadata": {},
   "outputs": [],
   "source": [
    "# 获取cityList\n",
    "with open(\"cityList.json\", \"r\", encoding=\"utf-8\") as f:\n",
    "    city_list = json.load(f)\n",
    "city_code_list = [city[\"citycode\"] for city in city_list]\n",
    "city_name_list = [city[\"name\"] for city in city_list]\n",
    "city_name_e_list = [city[\"keyword\"] for city in city_list]"
   ]
  },
  {
   "cell_type": "code",
   "execution_count": null,
   "id": "e9c19dae",
   "metadata": {},
   "outputs": [
    {
     "name": "stdout",
     "output_type": "stream",
     "text": [
      "正在采集城市 131:北京 的地铁数据\n",
      "正在采集城市 289:上海 的地铁数据\n",
      "正在采集城市 257:广州 的地铁数据\n",
      "正在采集城市 340:深圳 的地铁数据\n",
      "正在采集城市 132:重庆 的地铁数据\n",
      "正在采集城市 332:天津 的地铁数据\n",
      "正在采集城市 150:石家庄 的地铁数据\n",
      "正在采集城市 315:南京 的地铁数据\n",
      "正在采集城市 75:成都 的地铁数据\n",
      "正在采集城市 58:沈阳 的地铁数据\n",
      "正在采集城市 179:杭州 的地铁数据\n",
      "正在采集城市 218:武汉 的地铁数据\n",
      "正在采集城市 158:长沙 的地铁数据\n",
      "正在采集城市 224:苏州 的地铁数据\n",
      "正在采集城市 167:大连 的地铁数据\n",
      "正在采集城市 53:长春 的地铁数据\n",
      "正在采集城市 233:西安 的地铁数据\n",
      "正在采集城市 104:昆明 的地铁数据\n",
      "正在采集城市 138:佛山 的地铁数据\n",
      "正在采集城市 48:哈尔滨 的地铁数据\n",
      "正在采集城市 268:郑州 的地铁数据\n",
      "正在采集城市 180:宁波 的地铁数据\n",
      "正在采集城市 317:无锡 的地铁数据\n",
      "正在采集城市 178:温州 的地铁数据\n",
      "正在采集城市 236:青岛 的地铁数据\n",
      "正在采集城市 163:南昌 的地铁数据\n",
      "正在采集城市 300:福州 的地铁数据\n",
      "正在采集城市 119:东莞 的地铁数据\n",
      "正在采集城市 261:南宁 的地铁数据\n",
      "正在采集城市 127:合肥 的地铁数据\n",
      "正在采集城市 194:厦门 的地铁数据\n",
      "正在采集城市 92:乌鲁木齐 的地铁数据\n",
      "正在采集城市 146:贵阳 的地铁数据\n",
      "正在采集城市 2912:香港特别行政区 的地铁数据\n",
      "正在采集城市 9002:台北 的地铁数据\n",
      "正在采集城市 9019:高雄 的地铁数据\n",
      "正在采集城市 161:南通 的地铁数据\n",
      "正在采集城市 242:资阳 的地铁数据\n",
      "正在采集城市 122:鄂州 的地铁数据\n",
      "正在采集城市 313:湘潭 的地铁数据\n",
      "正在采集城市 323:咸阳 的地铁数据\n",
      "正在采集城市 155:许昌 的地铁数据\n",
      "正在采集城市 348:常州 的地铁数据\n",
      "正在采集城市 197:清远 的地铁数据\n",
      "正在采集城市 288:济南 的地铁数据\n",
      "正在采集城市 36:兰州 的地铁数据\n",
      "正在采集城市 316:徐州 的地铁数据\n",
      "正在采集城市 321:呼和浩特 的地铁数据\n",
      "正在采集城市 176:太原 的地铁数据\n",
      "正在采集城市 333:金华 的地铁数据\n",
      "正在采集城市 153:洛阳 的地铁数据\n",
      "正在采集城市 293:绍兴 的地铁数据\n",
      "正在采集城市 129:芜湖 的地铁数据\n",
      "正在采集城市 244:台州 的地铁数据\n",
      "正在采集城市 189:滁州 的地铁数据\n",
      "正在采集城市 274:湘西土家族苗族自治州 的地铁数据\n",
      "正在采集城市 2911:澳门特别行政区 的地铁数据\n",
      "正在采集城市 20001:新加坡 的地铁数据\n",
      "正在采集城市 20508:曼谷 的地铁数据\n",
      "正在采集城市 26001:名古屋 的地铁数据\n",
      "正在采集城市 26019:横滨 的地铁数据\n",
      "正在采集城市 26022:京都 的地铁数据\n",
      "正在采集城市 26033:大阪 的地铁数据\n",
      "正在采集城市 26041:东京 的地铁数据\n",
      "正在采集城市 30001:釜山 的地铁数据\n",
      "正在采集城市 30004:大邱 的地铁数据\n",
      "正在采集城市 30005:大田 的地铁数据\n",
      "正在采集城市 30007:光州 的地铁数据\n",
      "正在采集城市 30016:首尔 的地铁数据\n",
      "正在采集城市 49872:巴黎 的地铁数据\n",
      "正在采集城市 39816:里约热内卢 的地铁数据\n",
      "正在采集城市 53009:巴西利亚 的地铁数据\n",
      "正在采集城市 39817:圣保罗 的地铁数据\n",
      "正在采集城市 60732:纽约 的地铁数据\n",
      "正在采集城市 65531:莫斯科 的地铁数据\n",
      "正在采集城市 52390:鹿特丹 的地铁数据\n",
      "正在采集城市 48552:伊斯坦布尔 的地铁数据\n",
      "正在采集城市 51271:巴塞罗那 的地铁数据\n",
      "正在采集城市 51314:马德里 的地铁数据\n"
     ]
    }
   ],
   "source": [
    "subway_data = []\n",
    "for city_code, city_name, city_name_e in zip(city_code_list, city_name_list, city_name_e_list):\n",
    "    print(f\"正在采集城市 {city_code}:{city_name} 的地铁数据\")\n",
    "    query_url = query_url_raw.replace(\"c=75\", f\"c={city_code}\")\n",
    "    res = requests.get(query_url)\n",
    "    # 提取res中的json部分\n",
    "    res_text = res.text\n",
    "    res_json_str = res_text[res_text.index(\"{\") : res_text.rindex(\"}\") + 1]\n",
    "    res_json = json.loads(res_json_str)\n",
    "    city_data = {\n",
    "        'city_code': city_code,\n",
    "        'city_name': city_name,\n",
    "        'city_name_e': city_name_e,\n",
    "        'city_data': res_json['subways'],\n",
    "        'crawler_id': crawler_id\n",
    "\n",
    "    }\n",
    "    subway_data.append(city_data)\n",
    "    time.sleep(random.uniform(1, 3))  # 避免请求过快"
   ]
  },
  {
   "cell_type": "code",
   "execution_count": 27,
   "id": "03b7fee3",
   "metadata": {},
   "outputs": [],
   "source": [
    "# 将subway_data保存为json文件\n",
    "with open(f\"baidu_subway_data_{str(crawler_id)}.json\", \"w\", encoding=\"utf-8\") as f:\n",
    "    json.dump(subway_data, f, ensure_ascii=False, indent=2)"
   ]
  },
  {
   "cell_type": "code",
   "execution_count": null,
   "id": "9b5d9baa",
   "metadata": {},
   "outputs": [],
   "source": []
  }
 ],
 "metadata": {
  "kernelspec": {
   "display_name": "rapids25.08_python3.12",
   "language": "python",
   "name": "python3"
  },
  "language_info": {
   "codemirror_mode": {
    "name": "ipython",
    "version": 3
   },
   "file_extension": ".py",
   "mimetype": "text/x-python",
   "name": "python",
   "nbconvert_exporter": "python",
   "pygments_lexer": "ipython3",
   "version": "3.12.3"
  }
 },
 "nbformat": 4,
 "nbformat_minor": 5
}
